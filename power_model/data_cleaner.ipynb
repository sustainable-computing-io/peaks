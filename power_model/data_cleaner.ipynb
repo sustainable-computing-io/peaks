{
 "cells": [
  {
   "cell_type": "code",
   "execution_count": 4,
   "id": "805b58ba",
   "metadata": {},
   "outputs": [],
   "source": [
    "import numpy as np\n",
    "import pandas as pd\n",
    "import matplotlib.pyplot as plt\n",
    "import math\n",
    "import json"
   ]
  },
  {
   "cell_type": "code",
   "execution_count": 17,
   "id": "6191e852",
   "metadata": {},
   "outputs": [],
   "source": [
    "filename = 'data/stressng_kepler_query.json'\n",
    "file = open(filename)\n",
    "data = file.read()\n",
    "data = json.loads(data)"
   ]
  },
  {
   "cell_type": "code",
   "execution_count": 18,
   "id": "7e4bc644",
   "metadata": {},
   "outputs": [],
   "source": [
    "result = {}\n",
    "\n",
    "for metric in data:\n",
    "    temp = []\n",
    "    if metric == 'kepler_container_joules_total':\n",
    "        for container_metric in data[metric]:\n",
    "            tmp = [[container_metric['metric']['container_id'], container_metric['metric']['instance'], values[0], values[1]] for values in container_metric['values']]\n",
    "            tmp_df = pd.DataFrame(tmp, columns =['container_id', 'node', 'time', 'value'])\n",
    "            temp.append(tmp_df)\n",
    "    elif metric == 'node_cpu_seconds_total':\n",
    "        for node_metric in data[metric]:\n",
    "            if node_metric['metric']['mode'] == \"idle\":\n",
    "                continue\n",
    "            tmp = [[node_metric['metric']['instance'], node_metric['metric']['cpu'], values[0], values[1]] for values in node_metric['values']]\n",
    "            tmp_df = pd.DataFrame(tmp, columns =['node', 'cpu', 'time', 'value'])\n",
    "            temp.append(tmp_df)\n",
    "    elif metric == 'kepler_node_core_joules_total':\n",
    "        for node_metric in data[metric]:\n",
    "            tmp = [[node_metric['metric']['instance'], node_metric['metric']['package'], values[0], values[1]] for values in node_metric['values']]\n",
    "            tmp_df = pd.DataFrame(tmp, columns =['node', 'cpu', 'time', 'value'])\n",
    "            temp.append(tmp_df)\n",
    "    else:\n",
    "        continue\n",
    "    t = pd.concat(temp)\n",
    "    t['value'] = t['value'].astype(float)\n",
    "    result[metric] = t.reset_index(drop = True)"
   ]
  },
  {
   "cell_type": "code",
   "execution_count": 19,
   "id": "578c3d0a",
   "metadata": {},
   "outputs": [],
   "source": [
    "def get_node_dataframe(data):\n",
    "    energy = data['kepler_container_joules_total']\n",
    "    energy_agg = energy.groupby(['node', 'time'], as_index=False)['value'].sum()\n",
    "    cpu_util = data['node_cpu_seconds_total']\n",
    "    cpu_util_agg = cpu_util.groupby(['node', 'time'], as_index=False)['value'].sum()\n",
    "    node_power = data['kepler_node_core_joules_total']\n",
    "    node_power = node_power.groupby(['node', 'time'], as_index=False)['value'].sum()\n",
    "    \n",
    "    node_power['node'] = '172.19.0.2:9100'\n",
    "    energy_agg['node'] = '172.19.0.2:9100'\n",
    "    \n",
    "    final = pd.merge(cpu_util_agg, energy_agg, on = ['time', 'node'])\n",
    "    final.rename(columns={'value_x':'util', 'value_y':'energy'}, inplace=True)\n",
    "    final.sort_values('time', inplace=True)\n",
    "\n",
    "    final = pd.merge(final, node_power, on = ['time', 'node'])\n",
    "    final.rename(columns={'value':'power'}, inplace=True)\n",
    "    \n",
    "    return final\n"
   ]
  },
  {
   "cell_type": "code",
   "execution_count": 54,
   "id": "cfad7fab",
   "metadata": {},
   "outputs": [],
   "source": [
    "node_df = get_node_dataframe(result)"
   ]
  },
  {
   "cell_type": "code",
   "execution_count": 55,
   "id": "a6622103",
   "metadata": {},
   "outputs": [],
   "source": [
    "# import model"
   ]
  },
  {
   "cell_type": "code",
   "execution_count": 56,
   "id": "a8eff219",
   "metadata": {},
   "outputs": [],
   "source": [
    "# m = model.UtilisationPowerModel()\n",
    "# node_power_models = {}\n",
    "# for node in final['node'].unique():\n",
    "#     node_df = final[final['node'] == node]\n",
    "#     node_df['util'] = node_df['util'].diff()\n",
    "#     node_df['energy'] = node_df['energy'].diff()\n",
    "#     node_df['power'] = node_df['power'].diff()\n",
    "#     node_df.fillna(0, inplace=True)\n",
    "#     node_df = node_df[(node_df[['util']] != 0).all(axis=1)]\n",
    "#     max_util = max(node_df['util'])\n",
    "#     node_df['util'] = node_df['util']/max_util\n",
    "#     node_power_models[node] = m.get_model(node_df[['util', 'power']])"
   ]
  },
  {
   "cell_type": "code",
   "execution_count": 57,
   "id": "a6eccf68",
   "metadata": {},
   "outputs": [],
   "source": [
    "data = node_df"
   ]
  },
  {
   "cell_type": "code",
   "execution_count": 58,
   "id": "6f495268",
   "metadata": {},
   "outputs": [
    {
     "name": "stderr",
     "output_type": "stream",
     "text": [
      "/var/folders/42/cvcgsrbd5fgbmc436n0pvpxm0000gn/T/ipykernel_16046/1306954140.py:5: SettingWithCopyWarning: \n",
      "A value is trying to be set on a copy of a slice from a DataFrame.\n",
      "Try using .loc[row_indexer,col_indexer] = value instead\n",
      "\n",
      "See the caveats in the documentation: https://pandas.pydata.org/pandas-docs/stable/user_guide/indexing.html#returning-a-view-versus-a-copy\n",
      "  data.loc[:,'util'] = data.loc[:,'util']/max_util\n"
     ]
    }
   ],
   "source": [
    "data.loc[:,'util'] = data['util'].diff()\n",
    "data.fillna(0, inplace=True)\n",
    "data = data[(data[['util']] != 0).all(axis=1)]\n",
    "max_util = max(data['util'])\n",
    "data.loc[:,'util'] = data.loc[:,'util']/max_util"
   ]
  },
  {
   "cell_type": "code",
   "execution_count": 59,
   "id": "8eac68d0",
   "metadata": {},
   "outputs": [
    {
     "data": {
      "text/plain": [
       "4       0.181533\n",
       "7       0.178549\n",
       "10      0.187029\n",
       "14      0.179491\n",
       "17      0.181062\n",
       "          ...   \n",
       "7187    0.027324\n",
       "7190    0.023555\n",
       "7194    0.024497\n",
       "7197    0.025911\n",
       "7200    0.023241\n",
       "Name: util, Length: 2160, dtype: float64"
      ]
     },
     "execution_count": 59,
     "metadata": {},
     "output_type": "execute_result"
    }
   ],
   "source": [
    "data.loc[:,\"util\"]"
   ]
  },
  {
   "cell_type": "code",
   "execution_count": 61,
   "id": "56306b8c",
   "metadata": {},
   "outputs": [
    {
     "data": {
      "text/html": [
       "<div>\n",
       "<style scoped>\n",
       "    .dataframe tbody tr th:only-of-type {\n",
       "        vertical-align: middle;\n",
       "    }\n",
       "\n",
       "    .dataframe tbody tr th {\n",
       "        vertical-align: top;\n",
       "    }\n",
       "\n",
       "    .dataframe thead th {\n",
       "        text-align: right;\n",
       "    }\n",
       "</style>\n",
       "<table border=\"1\" class=\"dataframe\">\n",
       "  <thead>\n",
       "    <tr style=\"text-align: right;\">\n",
       "      <th></th>\n",
       "      <th>node</th>\n",
       "      <th>time</th>\n",
       "      <th>util</th>\n",
       "      <th>energy</th>\n",
       "      <th>power</th>\n",
       "    </tr>\n",
       "  </thead>\n",
       "  <tbody>\n",
       "    <tr>\n",
       "      <th>4</th>\n",
       "      <td>172.19.0.2:9100</td>\n",
       "      <td>1699436712</td>\n",
       "      <td>0.181533</td>\n",
       "      <td>202347.903</td>\n",
       "      <td>560187.288</td>\n",
       "    </tr>\n",
       "    <tr>\n",
       "      <th>7</th>\n",
       "      <td>172.19.0.2:9100</td>\n",
       "      <td>1699436721</td>\n",
       "      <td>0.178549</td>\n",
       "      <td>202392.678</td>\n",
       "      <td>560302.758</td>\n",
       "    </tr>\n",
       "    <tr>\n",
       "      <th>10</th>\n",
       "      <td>172.19.0.2:9100</td>\n",
       "      <td>1699436730</td>\n",
       "      <td>0.187029</td>\n",
       "      <td>202428.096</td>\n",
       "      <td>560394.099</td>\n",
       "    </tr>\n",
       "    <tr>\n",
       "      <th>14</th>\n",
       "      <td>172.19.0.2:9100</td>\n",
       "      <td>1699436742</td>\n",
       "      <td>0.179491</td>\n",
       "      <td>202487.826</td>\n",
       "      <td>560548.161</td>\n",
       "    </tr>\n",
       "    <tr>\n",
       "      <th>17</th>\n",
       "      <td>172.19.0.2:9100</td>\n",
       "      <td>1699436751</td>\n",
       "      <td>0.181062</td>\n",
       "      <td>202529.511</td>\n",
       "      <td>560655.657</td>\n",
       "    </tr>\n",
       "    <tr>\n",
       "      <th>...</th>\n",
       "      <td>...</td>\n",
       "      <td>...</td>\n",
       "      <td>...</td>\n",
       "      <td>...</td>\n",
       "      <td>...</td>\n",
       "    </tr>\n",
       "    <tr>\n",
       "      <th>7187</th>\n",
       "      <td>172.19.0.2:9100</td>\n",
       "      <td>1699458261</td>\n",
       "      <td>0.027324</td>\n",
       "      <td>245354.406</td>\n",
       "      <td>1104962.292</td>\n",
       "    </tr>\n",
       "    <tr>\n",
       "      <th>7190</th>\n",
       "      <td>172.19.0.2:9100</td>\n",
       "      <td>1699458270</td>\n",
       "      <td>0.023555</td>\n",
       "      <td>245376.498</td>\n",
       "      <td>1105019.226</td>\n",
       "    </tr>\n",
       "    <tr>\n",
       "      <th>7194</th>\n",
       "      <td>172.19.0.2:9100</td>\n",
       "      <td>1699458282</td>\n",
       "      <td>0.024497</td>\n",
       "      <td>245406.747</td>\n",
       "      <td>1105097.130</td>\n",
       "    </tr>\n",
       "    <tr>\n",
       "      <th>7197</th>\n",
       "      <td>172.19.0.2:9100</td>\n",
       "      <td>1699458291</td>\n",
       "      <td>0.025911</td>\n",
       "      <td>245429.421</td>\n",
       "      <td>1105155.576</td>\n",
       "    </tr>\n",
       "    <tr>\n",
       "      <th>7200</th>\n",
       "      <td>172.19.0.2:9100</td>\n",
       "      <td>1699458300</td>\n",
       "      <td>0.023241</td>\n",
       "      <td>245451.684</td>\n",
       "      <td>1105212.951</td>\n",
       "    </tr>\n",
       "  </tbody>\n",
       "</table>\n",
       "<p>2160 rows × 5 columns</p>\n",
       "</div>"
      ],
      "text/plain": [
       "                 node        time      util      energy        power\n",
       "4     172.19.0.2:9100  1699436712  0.181533  202347.903   560187.288\n",
       "7     172.19.0.2:9100  1699436721  0.178549  202392.678   560302.758\n",
       "10    172.19.0.2:9100  1699436730  0.187029  202428.096   560394.099\n",
       "14    172.19.0.2:9100  1699436742  0.179491  202487.826   560548.161\n",
       "17    172.19.0.2:9100  1699436751  0.181062  202529.511   560655.657\n",
       "...               ...         ...       ...         ...          ...\n",
       "7187  172.19.0.2:9100  1699458261  0.027324  245354.406  1104962.292\n",
       "7190  172.19.0.2:9100  1699458270  0.023555  245376.498  1105019.226\n",
       "7194  172.19.0.2:9100  1699458282  0.024497  245406.747  1105097.130\n",
       "7197  172.19.0.2:9100  1699458291  0.025911  245429.421  1105155.576\n",
       "7200  172.19.0.2:9100  1699458300  0.023241  245451.684  1105212.951\n",
       "\n",
       "[2160 rows x 5 columns]"
      ]
     },
     "execution_count": 61,
     "metadata": {},
     "output_type": "execute_result"
    }
   ],
   "source": [
    "data"
   ]
  },
  {
   "cell_type": "code",
   "execution_count": 62,
   "id": "33bb6c10",
   "metadata": {},
   "outputs": [],
   "source": [
    "def roundup(i):\n",
    "    r = int(i/5)\n",
    "    if r%2 == 0:\n",
    "        return math.floor(i/10)*10\n",
    "    else:\n",
    "        return math.ceil(i/10)*10"
   ]
  },
  {
   "cell_type": "code",
   "execution_count": 63,
   "id": "4d71e103",
   "metadata": {},
   "outputs": [],
   "source": [
    "hist = {i*10:0 for i in range(11)}\n",
    "for i in data['util']:\n",
    "    hist[roundup(i*100)] += 1"
   ]
  },
  {
   "cell_type": "code",
   "execution_count": 64,
   "id": "fae6a4ee",
   "metadata": {},
   "outputs": [
    {
     "data": {
      "text/plain": [
       "{0: 248,\n",
       " 10: 32,\n",
       " 20: 805,\n",
       " 30: 242,\n",
       " 40: 52,\n",
       " 50: 322,\n",
       " 60: 12,\n",
       " 70: 156,\n",
       " 80: 104,\n",
       " 90: 34,\n",
       " 100: 153}"
      ]
     },
     "execution_count": 64,
     "metadata": {},
     "output_type": "execute_result"
    }
   ],
   "source": [
    "hist"
   ]
  },
  {
   "cell_type": "code",
   "execution_count": 72,
   "id": "289013a6",
   "metadata": {},
   "outputs": [
    {
     "data": {
      "text/plain": [
       "333.8181818181818"
      ]
     },
     "execution_count": 72,
     "metadata": {},
     "output_type": "execute_result"
    }
   ],
   "source": [
    "degree_of_imbalance = sum(hist.values())/len(hist)*1.7\n",
    "degree_of_imbalance"
   ]
  },
  {
   "cell_type": "code",
   "execution_count": 73,
   "id": "9786494b",
   "metadata": {},
   "outputs": [
    {
     "data": {
      "text/plain": [
       "[20]"
      ]
     },
     "execution_count": 73,
     "metadata": {},
     "output_type": "execute_result"
    }
   ],
   "source": [
    "# Find oversampled region\n",
    "over_sampled_region = []\n",
    "for i in hist:\n",
    "    if hist[i] > degree_of_imbalance:\n",
    "        over_sampled_region.append(i)\n",
    "over_sampled_region"
   ]
  },
  {
   "cell_type": "code",
   "execution_count": 74,
   "id": "2080ca29",
   "metadata": {},
   "outputs": [],
   "source": [
    "def reduce_data(data, size):\n",
    "    return data.loc[:size]"
   ]
  },
  {
   "cell_type": "code",
   "execution_count": null,
   "id": "b1fd0544",
   "metadata": {},
   "outputs": [],
   "source": [
    "for i in over_sampled_region:\n",
    "    "
   ]
  }
 ],
 "metadata": {
  "kernelspec": {
   "display_name": "Python 3 (ipykernel)",
   "language": "python",
   "name": "python3"
  },
  "language_info": {
   "codemirror_mode": {
    "name": "ipython",
    "version": 3
   },
   "file_extension": ".py",
   "mimetype": "text/x-python",
   "name": "python",
   "nbconvert_exporter": "python",
   "pygments_lexer": "ipython3",
   "version": "3.10.8"
  }
 },
 "nbformat": 4,
 "nbformat_minor": 5
}
